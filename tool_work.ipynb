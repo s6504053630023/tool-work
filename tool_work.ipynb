{
  "nbformat": 4,
  "nbformat_minor": 0,
  "metadata": {
    "colab": {
      "provenance": [],
      "authorship_tag": "ABX9TyMJcnn9lksKJRx+e+ARvANr",
      "include_colab_link": true
    },
    "kernelspec": {
      "name": "python3",
      "display_name": "Python 3"
    },
    "language_info": {
      "name": "python"
    }
  },
  "cells": [
    {
      "cell_type": "markdown",
      "metadata": {
        "id": "view-in-github",
        "colab_type": "text"
      },
      "source": [
        "<a href=\"https://colab.research.google.com/github/s6504053630023/tool-work/blob/main/tool_work.ipynb\" target=\"_parent\"><img src=\"https://colab.research.google.com/assets/colab-badge.svg\" alt=\"Open In Colab\"/></a>"
      ]
    },
    {
      "cell_type": "code",
      "execution_count": null,
      "metadata": {
        "id": "5CakMScv8QGS"
      },
      "outputs": [],
      "source": [
        "import numpy as np\n",
        "from collections import Counter\n",
        "\n",
        "def count_runs(sequence):\n",
        "    run_lengths = []  # List to store lengths of success runs\n",
        "    current_run_length = 0  # Counter for the current run of 1's\n",
        "\n",
        "    # Iterate over the sequence\n",
        "    for trial in sequence:\n",
        "        if trial == 1:\n",
        "            # Increment current run length if we encounter a 1 (success)\n",
        "            current_run_length += 1\n",
        "        else:\n",
        "            # If we encounter a 0, a run ends, so record the run length if it's non-zero\n",
        "            if current_run_length > 0:\n",
        "                run_lengths.append(current_run_length)\n",
        "                current_run_length = 0  # Reset the run length for next 1's\n",
        "\n",
        "    # If the sequence ends with a run of 1's, we need to record that as well\n",
        "    if current_run_length > 0:\n",
        "        run_lengths.append(current_run_length)\n",
        "\n",
        "    # Return the count of each run length using Counter\n",
        "    return Counter(run_lengths)\n",
        "\n",
        "# Example Usage\n",
        "\n",
        "# Example 1: Short sequence\n",
        "sequence_1 = [0, 1, 0, 1, 1, 0, 0, 0, 0, 1]\n",
        "result_1 = count_runs(sequence_1)\n",
        "print(result_1)  # Expected: Counter({1: 2, 2: 1})\n",
        "\n",
        "# Example 2: Long sequence with random 0's and 1's\n",
        "sequence_2 = np.random.randint(0, 2, 1000000)  # Sequence of length 1,000,000\n",
        "result_2 = count_runs(sequence_2)\n",
        "print(result_2)  # Expected output varies but will show counts of run lengths\n"
      ]
    }
  ]
}