{
  "nbformat": 4,
  "nbformat_minor": 0,
  "metadata": {
    "colab": {
      "provenance": [],
      "authorship_tag": "ABX9TyNCyJRQkB5YvhbrGy4hBgPc",
      "include_colab_link": true
    },
    "kernelspec": {
      "name": "python3",
      "display_name": "Python 3"
    },
    "language_info": {
      "name": "python"
    }
  },
  "cells": [
    {
      "cell_type": "markdown",
      "metadata": {
        "id": "view-in-github",
        "colab_type": "text"
      },
      "source": [
        "<a href=\"https://colab.research.google.com/github/s6504053630023/tool-work/blob/main/tool_work.ipynb\" target=\"_parent\"><img src=\"https://colab.research.google.com/assets/colab-badge.svg\" alt=\"Open In Colab\"/></a>"
      ]
    },
    {
      "cell_type": "code",
      "execution_count": 1,
      "metadata": {
        "colab": {
          "base_uri": "https://localhost:8080/"
        },
        "id": "5CakMScv8QGS",
        "outputId": "71620f3e-2667-413c-d7f9-f85a9b941a69"
      },
      "outputs": [
        {
          "output_type": "stream",
          "name": "stdout",
          "text": [
            "Counter({1: 2, 2: 1})\n",
            "Counter({1: 125295, 2: 62330, 3: 31122, 4: 15530, 5: 7859, 6: 3924, 7: 1969, 8: 961, 9: 490, 10: 248, 11: 135, 12: 81, 13: 27, 14: 13, 15: 11, 16: 5, 18: 4, 17: 3})\n"
          ]
        }
      ],
      "source": [
        "import numpy as np\n",
        "from collections import Counter\n",
        "\n",
        "def count_runs(sequence):\n",
        "    run_lengths = []  # List to store lengths of success runs\n",
        "    current_run_length = 0  # Counter for the current run of 1's\n",
        "\n",
        "    # Iterate over the sequence\n",
        "    for trial in sequence:\n",
        "        if trial == 1:\n",
        "            # Increment current run length if we encounter a 1 (success)\n",
        "            current_run_length += 1\n",
        "        else:\n",
        "            # If we encounter a 0, a run ends, so record the run length if it's non-zero\n",
        "            if current_run_length > 0:\n",
        "                run_lengths.append(current_run_length)\n",
        "                current_run_length = 0  # Reset the run length for next 1's\n",
        "\n",
        "    # If the sequence ends with a run of 1's, we need to record that as well\n",
        "    if current_run_length > 0:\n",
        "        run_lengths.append(current_run_length)\n",
        "\n",
        "    # Return the count of each run length using Counter\n",
        "    return Counter(run_lengths)\n",
        "\n",
        "# Example Usage\n",
        "\n",
        "# Example 1: Short sequence\n",
        "sequence_1 = [0, 1, 0, 1, 1, 0, 0, 0, 0, 1]\n",
        "result_1 = count_runs(sequence_1)\n",
        "print(result_1)  # Expected: Counter({1: 2, 2: 1})\n",
        "\n",
        "# Example 2: Long sequence with random 0's and 1's\n",
        "sequence_2 = np.random.randint(0, 2, 1000000)  # Sequence of length 1,000,000\n",
        "result_2 = count_runs(sequence_2)\n",
        "print(result_2)  # Expected output varies but will show counts of run lengths\n"
      ]
    },
    {
      "cell_type": "code",
      "source": [
        "import numpy as np\n",
        "\n",
        "def run_prob(expts, n, k, p):\n",
        "    \"\"\"\n",
        "    Estimate the probability of observing at least one run of length k or more\n",
        "    in a sequence of length n, with probability p for each trial.\n",
        "\n",
        "    expts: number of experiments to run\n",
        "    n: length of the sequence\n",
        "    k: the minimum run length to consider\n",
        "    p: probability of success (1 for heads, 0 for tails)\n",
        "    \"\"\"\n",
        "    def has_run_of_length_k_or_more(sequence, k):\n",
        "        max_run_length = 0\n",
        "        current_run_length = 0\n",
        "        # Go through the sequence and check for runs\n",
        "        for i in range(len(sequence)):\n",
        "            if sequence[i] == sequence[i-1] if i > 0 else 1:\n",
        "                current_run_length += 1\n",
        "            else:\n",
        "                max_run_length = max(max_run_length, current_run_length)\n",
        "                current_run_length = 1  # start a new run\n",
        "        max_run_length = max(max_run_length, current_run_length)  # Check last run\n",
        "        return max_run_length >= k\n",
        "\n",
        "    # Run the simulation\n",
        "    count = 0\n",
        "    for _ in range(expts):\n",
        "        # Generate a random sequence of 0s and 1s (representing tails and heads)\n",
        "        sequence = np.random.binomial(1, p, size=n)\n",
        "        if has_run_of_length_k_or_more(sequence, k):\n",
        "            count += 1\n",
        "\n",
        "    return count / expts\n",
        "\n",
        "# Set up the experiment parameters\n",
        "expts = 100000\n",
        "n = 100\n",
        "k1 = 5\n",
        "p1 = 0.5\n",
        "k2 = 7\n",
        "p2 = 0.7\n",
        "\n",
        "# Estimate probabilities for each case\n",
        "prob_5_or_more_p_0_5 = run_prob(expts, n, k1, p1)\n",
        "prob_7_or_more_p_0_7 = run_prob(expts, n, k2, p2)\n",
        "\n",
        "print(f\"Probability of at least one run of length 5 or more (p=0.5): {prob_5_or_more_p_0_5:.5f}\")\n",
        "print(f\"Probability of at least one run of length 7 or more (p=0.7): {prob_7_or_more_p_0_7:.5f}\")\n"
      ],
      "metadata": {
        "colab": {
          "base_uri": "https://localhost:8080/"
        },
        "id": "cECx5-ow_koS",
        "outputId": "0079e039-5790-4c97-d0fb-b0ba5edb3993"
      },
      "execution_count": 2,
      "outputs": [
        {
          "output_type": "stream",
          "name": "stdout",
          "text": [
            "Probability of at least one run of length 5 or more (p=0.5): 0.97155\n",
            "Probability of at least one run of length 7 or more (p=0.7): 0.94987\n"
          ]
        }
      ]
    }
  ]
}